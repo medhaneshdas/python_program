{
  "nbformat": 4,
  "nbformat_minor": 0,
  "metadata": {
    "colab": {
      "provenance": []
    },
    "kernelspec": {
      "name": "python3",
      "display_name": "Python 3"
    },
    "language_info": {
      "name": "python"
    }
  },
  "cells": [
    {
      "cell_type": "code",
      "execution_count": null,
      "metadata": {
        "colab": {
          "base_uri": "https://localhost:8080/"
        },
        "id": "iCjVPWEmq3zu",
        "outputId": "81551e92-89bb-4b64-c7e6-fdc1362e26e2"
      },
      "outputs": [
        {
          "output_type": "stream",
          "name": "stdout",
          "text": [
            "enter a number=5\n",
            "*  \n",
            "*  *  \n",
            "*  *  *  \n",
            "*  *  *  *  \n",
            "*  *  *  *  *  \n"
          ]
        }
      ],
      "source": [
        "n=int(input(\"enter a number=\"))\n",
        "for row in range(1,n+1):\n",
        "  for col in range(1,n+1):\n",
        "    if col<=row:\n",
        "      print(\"* \",end=\" \")\n",
        "  print()"
      ]
    },
    {
      "cell_type": "code",
      "source": [
        "n=int(input(\"enter n:\"))\n",
        "for row in range(1,n+1):\n",
        "   for col in range(1,n+1):\n",
        "      print(\"* \",end=\" \")\n",
        "   print()"
      ],
      "metadata": {
        "colab": {
          "base_uri": "https://localhost:8080/"
        },
        "id": "bSeycu4fsuwT",
        "outputId": "2b3903b6-6ff8-4c7a-a22a-8bcb9f744888"
      },
      "execution_count": null,
      "outputs": [
        {
          "output_type": "stream",
          "name": "stdout",
          "text": [
            "enter n:5\n",
            "*  *  *  *  *  \n",
            "*  *  *  *  *  \n",
            "*  *  *  *  *  \n",
            "*  *  *  *  *  \n",
            "*  *  *  *  *  \n"
          ]
        }
      ]
    },
    {
      "cell_type": "code",
      "source": [
        "n=int(input(\"enter a number=\"))\n",
        "for row in range(1,n+1):\n",
        "  for col in range(1,n+1):\n",
        "    if col<=row:\n",
        "      print(col,end=\" \")\n",
        "  print()"
      ],
      "metadata": {
        "colab": {
          "base_uri": "https://localhost:8080/"
        },
        "id": "mrksu_1qsUBE",
        "outputId": "6890aa50-8821-4d45-b67b-7dd286afde79"
      },
      "execution_count": null,
      "outputs": [
        {
          "output_type": "stream",
          "name": "stdout",
          "text": [
            "enter a number=5\n",
            "1 \n",
            "1 2 \n",
            "1 2 3 \n",
            "1 2 3 4 \n",
            "1 2 3 4 5 \n"
          ]
        }
      ]
    },
    {
      "cell_type": "code",
      "source": [
        "n=int(input(\"enter a number=\"))\n",
        "for row in range(0,n):\n",
        "  for col in range(0,n-row-1):\n",
        "      print(end=\" \")\n",
        "  for i in range(0,row+1):\n",
        "      print(\"* \",end=\" \")\n",
        "  print()"
      ],
      "metadata": {
        "colab": {
          "base_uri": "https://localhost:8080/"
        },
        "id": "bV13ZXDauTbU",
        "outputId": "426a799d-101e-425a-8f88-6e8bf43c5212"
      },
      "execution_count": null,
      "outputs": [
        {
          "output_type": "stream",
          "name": "stdout",
          "text": [
            "enter a number=4\n",
            "   *  \n",
            "  *  *  \n",
            " *  *  *  \n",
            "*  *  *  *  \n"
          ]
        }
      ]
    },
    {
      "cell_type": "code",
      "source": [
        "num=int(input(\"enter a number=\"))\n",
        "i=1\n",
        "sum=0\n",
        "for i in range(1, num):\n",
        "  if num % i == 0:\n",
        "    sum=sum + i\n",
        "  i+=1\n",
        "if sum == num:\n",
        "  print(\"\\n is  a perfect number\",num)\n",
        "else:\n",
        "  print(\"\\n is not a perfect number\",num)"
      ],
      "metadata": {
        "id": "m3TpLbxZyqli"
      },
      "execution_count": null,
      "outputs": []
    },
    {
      "cell_type": "code",
      "source": [
        "#function without return type without parameter\n",
        "def sum():\n",
        "  a=int(input(\"enter a:\"))\n",
        "  b=int(input(\"enter b:\"))\n",
        "  c=a+b\n",
        "  print(a,\"+\",b,\"=\",c)\n",
        "\n",
        "#function without return type with parameter\n",
        "def div(no1,no2):\n",
        "  c=no1/no2\n",
        "  print(no1,\"/\",no2,\"=\",c)\n",
        "\n",
        "#function with return type with parameter\n",
        "def sub(a,b):\n",
        "  c=a-b\n",
        "  return c\n",
        "\n",
        "sum()\n",
        "x=int(input(\"enter no1:\"))\n",
        "y=int(input(\"enter no1:\"))\n",
        "div(x,y)\n",
        "div(9,6)\n",
        "\n",
        "ans = sub(x,y)\n",
        "print(x,\"-\",y,\"=\",ans)\n",
        "print(\"return=\",sub(9,8))"
      ],
      "metadata": {
        "id": "vDV4ovSXB0v2",
        "colab": {
          "base_uri": "https://localhost:8080/"
        },
        "outputId": "f184eaa6-460f-47ae-80f3-e17075f35098"
      },
      "execution_count": null,
      "outputs": [
        {
          "output_type": "stream",
          "name": "stdout",
          "text": [
            "enter a:5\n",
            "enter b:6\n",
            "5 + 6 = 11\n",
            "enter no1:10\n",
            "enter no1:3\n",
            "10 / 3 = 3.3333333333333335\n",
            "9 / 6 = 1.5\n",
            "10 - 3 = 7\n",
            "return= 1\n"
          ]
        }
      ]
    },
    {
      "cell_type": "code",
      "source": [
        "def avg():\n",
        "  n = int(input(\"enter your want to= \"))\n",
        "  var=0\n",
        "  for i in range(0,n):\n",
        "    num = int(input(\"enter a number= \"))\n",
        "    var += num\n",
        "  print(var/n)\n",
        "\n",
        "avg()"
      ],
      "metadata": {
        "colab": {
          "base_uri": "https://localhost:8080/"
        },
        "id": "wC8-UJcgrx80",
        "outputId": "1c0b2734-60ff-4c11-a172-e381417679a7"
      },
      "execution_count": null,
      "outputs": [
        {
          "output_type": "stream",
          "name": "stdout",
          "text": [
            "enter your want to= 2\n",
            "enter a number= 10\n",
            "enter a number= 20\n",
            "15.0\n"
          ]
        }
      ]
    },
    {
      "cell_type": "code",
      "source": [
        "def pow(a,b):\n",
        "  a1=1\n",
        "  for i in range(b):\n",
        "    a1*=a\n",
        "  print(a1)\n",
        "2\n",
        "x=int(input(\"enter no1:\"))\n",
        "y=int(input(\"enter no1:\"))\n",
        "pow(x,y)"
      ],
      "metadata": {
        "colab": {
          "base_uri": "https://localhost:8080/"
        },
        "id": "sUt6kovyx5a5",
        "outputId": "db8a0275-7c1a-423b-c59f-438c271890ff"
      },
      "execution_count": null,
      "outputs": [
        {
          "output_type": "stream",
          "name": "stdout",
          "text": [
            "enter no1:3\n",
            "enter no1:2\n",
            "9\n"
          ]
        }
      ]
    },
    {
      "cell_type": "code",
      "source": [
        "def max(i,j,k):\n",
        "  if i>j and i>k:\n",
        "    print(i)\n",
        "  elif j>i and j>k:\n",
        "    print(j)\n",
        "  elif k>i and i>j:\n",
        "      print(k)\n",
        "  else:\n",
        "    print(\"invalid number:\")\n",
        "\n",
        "x = int(input(\"enter a number x:=\"))\n",
        "y = int(input(\"enter a number y:=\"))\n",
        "z = int(input(\"enter a number z:=\"))\n",
        "max(x,y,z)"
      ],
      "metadata": {
        "colab": {
          "base_uri": "https://localhost:8080/"
        },
        "id": "M4S3hZUWv9W4",
        "outputId": "7960bb94-bb2a-4456-da1c-55cdaacaec3e"
      },
      "execution_count": null,
      "outputs": [
        {
          "output_type": "stream",
          "name": "stdout",
          "text": [
            "enter a number x:=56\n",
            "enter a number y:=87\n",
            "enter a number z:=1\n",
            "87\n"
          ]
        }
      ]
    },
    {
      "cell_type": "markdown",
      "source": [
        "#local global enclosing scope of variable"
      ],
      "metadata": {
        "id": "Z0_zg_hWvaAo"
      }
    },
    {
      "cell_type": "code",
      "source": [
        "\n",
        "a=10\n",
        "def fun1():\n",
        "  global a\n",
        "  a=100\n",
        "  print(\"global variable a:=\",a)\n",
        "  b=20\n",
        "  print(\"local variable b:=\",b)\n",
        "  def fun2():\n",
        "    nonlocal b\n",
        "    b=200\n",
        "    print(\"enclosing variable b:=\",b)\n",
        "  fun2()\n",
        "fun1()\n"
      ],
      "metadata": {
        "id": "BNamWDpnx5Nh",
        "colab": {
          "base_uri": "https://localhost:8080/"
        },
        "outputId": "43d10683-7d2e-4f51-cfa1-b178ade74497"
      },
      "execution_count": null,
      "outputs": [
        {
          "output_type": "stream",
          "name": "stdout",
          "text": [
            "global variable a:= 100\n",
            "local variable b:= 20\n",
            "enclosing variable b:= 200\n"
          ]
        }
      ]
    },
    {
      "cell_type": "code",
      "source": [
        "import math\n",
        "lamda1 = lambda r:math.pi * r * r\n",
        "area=lamda1(5)\n",
        "print(\"area of circle\",area)"
      ],
      "metadata": {
        "id": "LEplA-0cyTMh",
        "colab": {
          "base_uri": "https://localhost:8080/"
        },
        "outputId": "1cf9005c-82f1-49cb-e70f-81b6ce90fcfa"
      },
      "execution_count": null,
      "outputs": [
        {
          "output_type": "stream",
          "name": "stdout",
          "text": [
            "area of circle 78.53981633974483\n"
          ]
        }
      ]
    },
    {
      "cell_type": "code",
      "source": [
        "lambda3= lambda x:'even' if x%2==0 else 'odd'\n",
        "evod=lambda3(int(input(\"enter a number=\")))\n",
        "print(\"cube of a number=\",evod)"
      ],
      "metadata": {
        "colab": {
          "base_uri": "https://localhost:8080/"
        },
        "id": "KA58Zg4leMGT",
        "outputId": "6b242724-2e25-4e16-c175-c6674fcdad24"
      },
      "execution_count": null,
      "outputs": [
        {
          "output_type": "stream",
          "name": "stdout",
          "text": [
            "enter a number=1\n",
            "cube of a number= odd\n"
          ]
        }
      ]
    },
    {
      "cell_type": "code",
      "source": [
        "lambda4= lambda x:'eligiable for vote' if x>=18 else 'not eligiable for vote'\n",
        "vot=lambda4(int(input(\"enter your age=\")))\n",
        "print(\"you are\",vot)"
      ],
      "metadata": {
        "colab": {
          "base_uri": "https://localhost:8080/"
        },
        "id": "9bRvj6XaeMFr",
        "outputId": "bed14de9-833d-4c42-d0a3-42c9f0b4013f"
      },
      "execution_count": null,
      "outputs": [
        {
          "output_type": "stream",
          "name": "stdout",
          "text": [
            "enter your age=19\n",
            "you are eligiable for vote\n"
          ]
        }
      ]
    },
    {
      "cell_type": "code",
      "source": [
        "lambda5= lambda x,y:x*y\n",
        "x=int(input(\"enter a number x=\"))\n",
        "y=int(input(\"enter a number y=\"))\n",
        "pro=lambda5(x,y)\n",
        "print(\"cube of a number=\",pro)"
      ],
      "metadata": {
        "colab": {
          "base_uri": "https://localhost:8080/"
        },
        "id": "nPY7diz3ir3y",
        "outputId": "f6aa03a9-1d03-4922-db2a-9e4d0d1c3113"
      },
      "execution_count": null,
      "outputs": [
        {
          "output_type": "stream",
          "name": "stdout",
          "text": [
            "enter a number x=5\n",
            "enter a number y=2\n",
            "cube of a number= 10\n"
          ]
        }
      ]
    },
    {
      "cell_type": "code",
      "source": [
        "lambda2= lambda x:x*x*x\n",
        "cube=lambda2(4)\n",
        "print(\"cube of a number=\",cube)"
      ],
      "metadata": {
        "colab": {
          "base_uri": "https://localhost:8080/"
        },
        "id": "ehUSONmxiwsK",
        "outputId": "5c354dc7-930f-4fbe-fa83-d35641226370"
      },
      "execution_count": null,
      "outputs": [
        {
          "output_type": "stream",
          "name": "stdout",
          "text": [
            "cube of a number= 64\n"
          ]
        }
      ]
    },
    {
      "cell_type": "code",
      "source": [
        "great=lambda m1,m2,m3:\"m1 is greater then m1,m2\" if m1>m2 and m1>m3 else \"m2 is greater then m1,m3\" if m2>m1 and m2>m3 else \"m3 is greater then m1,m2\" if m3>m1 and m3>m2 else \"nothing\"\n",
        "m1=int(input(\"enter a number x=\"))\n",
        "m2=int(input(\"enter a number x=\"))\n",
        "m3=int(input(\"enter a number x=\"))\n",
        "b=great(m1,m2,m3)\n",
        "print(b)\n"
      ],
      "metadata": {
        "id": "n4Cwt4eZvo1u"
      },
      "execution_count": null,
      "outputs": []
    }
  ]
}